{
 "cells": [
  {
   "cell_type": "markdown",
   "metadata": {},
   "source": [
    "SISTEM PERSAMAAN LINIER"
   ]
  },
  {
   "cell_type": "markdown",
   "metadata": {},
   "source": [
    "1. KONSEP SISTEM PERSAMAAN LINIER\n",
    "\n",
    "  Sistem persamaan linier merupakan kumpulan persamaan yang melibatkan dua atau lebih variabel yang memiliki pangkat pertama, dimana persamaan ini berisi konstanta dan variabel tunggal yang digambarkan dengan garis lurus dalam sistem koordinat kartesius. Biasanya sistem persamaan linier ini dituliskan dalam bentuk matriks yang dapat diselesaikan untuk mencari nilai variabel yang memenuhi."
   ]
  },
  {
   "cell_type": "markdown",
   "metadata": {},
   "source": [
    "2. ISTILAH-ISTILAH PADA SISTEM PERSAMAAN LINIER\n",
    "\n",
    "  a. Suku, terdiri dari koefisien, variabel dan konstanta, dimana setiap sukunya dipisahkan oleh operator seperi operator penjumlahan (+) atau operator pengurangan (-). \n",
    "\n",
    "  b. Koefisien, bilangan yang digunakan untuk menyatakan jumlah atau banyaknya variabel. seperti, 5X artinya banyaknya X adalah 5. 5 inilah yang disebut sebagai koefisien.\n",
    "\n",
    "  c. Variabel, huruf yang menjadi simbol atau perumpaan dari makna yang sebenarnya. Biasanya dilambangkan sdengan huruf, X, Y, Z, dan yang lainnya. Misalnya, pensil = 6Z artinya Z merupakan simbol atau perumpaan dari pensil yang memiliki koefisien 6.\n",
    "\n",
    "  d. Konstanta, bilangan yang tidak diikuti dengan variabel dan memiliki nilai tetap tanpa terpengaruh dengan berapapun nilai perubahn yang ada. Misalnya, 7x + 2y - 5 = 0, yang disebut konstanta adalah bilangan (-5), karena bilangan tersebutlah yang tidak diikuti dengan variabel apapun."
   ]
  },
  {
   "cell_type": "markdown",
   "metadata": {},
   "source": [
    "3. CONTOH PENULISAN PERSAMAAN DARI SISTEM PERSAMAAN LINIER 4 VARIABEL\n",
    "\n",
    "$$\n",
    "2_1 + 3x_2 - x_3 +x_4 = 10\\\\\n",
    "3_1 - 2x_2 + 2_3 - 2x_4 = -3\\\\\n",
    "x_1 + x_2 - x_3 +3x_4 = 5\\\\\n",
    "x_1 - 2x_2 + 3x_3 - x_4 = 8\\\\\n",
    "$$"
   ]
  },
  {
   "cell_type": "markdown",
   "metadata": {},
   "source": [
    "*REFERENSI**\n",
    "\n",
    "1. https://katadata.co.id/lifestyle/varia/63fc9419b49e6/memahami-konsep-dan-contoh-soal-sistem-persamaan-linear-dua-variabel\n",
    "\n",
    "2. https://www.idomaths.com/id/persamaan_linier.php\n",
    "\n",
    "3. https://www.sampoernaacademy.sch.id/id/persamaan-linear/"
   ]
  }
 ],
 "metadata": {
  "kernelspec": {
   "display_name": "Python 3 (ipykernel)",
   "language": "python",
   "name": "python3"
  },
  "language_info": {
   "codemirror_mode": {
    "name": "ipython",
    "version": 3
   },
   "file_extension": ".py",
   "mimetype": "text/x-python",
   "name": "python",
   "nbconvert_exporter": "python",
   "pygments_lexer": "ipython3",
   "version": "3.10.13"
  }
 },
 "nbformat": 4,
 "nbformat_minor": 2
}